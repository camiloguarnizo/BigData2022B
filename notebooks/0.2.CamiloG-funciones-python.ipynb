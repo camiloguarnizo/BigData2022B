{
 "cells": [
  {
   "cell_type": "code",
   "execution_count": 1,
   "metadata": {},
   "outputs": [],
   "source": [
    "#funcion f(x,y,z)=x+y+z\n",
    "\n",
    "\n",
    "def f (x,y,z):\n",
    "    resultado = x+y+z\n",
    "    \n",
    "    return resultado"
   ]
  },
  {
   "cell_type": "code",
   "execution_count": 3,
   "metadata": {},
   "outputs": [
    {
     "data": {
      "text/plain": [
       "6"
      ]
     },
     "execution_count": 3,
     "metadata": {},
     "output_type": "execute_result"
    }
   ],
   "source": [
    "f(x=5 , y=3 , z=-2)"
   ]
  },
  {
   "cell_type": "code",
   "execution_count": null,
   "metadata": {},
   "outputs": [],
   "source": [
    "##pseudo codigo\n",
    "\n",
    "def main():\n",
    "    get_data()\n",
    "    get_summary\n",
    "    save_data()\n",
    "    \n"
   ]
  },
  {
   "cell_type": "code",
   "execution_count": null,
   "metadata": {},
   "outputs": [],
   "source": [
    "## quiero una funcion que calcule :\n",
    "    ##1. la suma de todos los numeros de una lista\n",
    "    ##2. minimo valor de la lista\n",
    "    ##3. maximo valor de la lista\n",
    "    ## 4. calcule media y la desviacion estandar \n",
    "\n"
   ]
  },
  {
   "cell_type": "code",
   "execution_count": 57,
   "metadata": {},
   "outputs": [],
   "source": [
    "import numpy as np\n",
    "import random\n",
    "\n",
    "def calcular_min_max(lista_numeros, verbose=True):\n",
    "    ''' \n",
    "    Retorna los valores Minimo y Maximo de una lista de numeros\n",
    "    Argumentos:\n",
    "        lista_numeros:type list\n",
    "    '''\n",
    "    min_value= min(lista_numeros)\n",
    "    max_value=max(lista_numeros)\n",
    "    \n",
    "    \n",
    "    if verbose == True:\n",
    "        print('Valor Minimo:', min_value)\n",
    "        print('Valor Maximo:',max_value )\n",
    "    else: \n",
    "        pass\n",
    "    return min_value, max_value\n",
    "\n",
    "def calcular_suma(lista_numeros, verbose=True):\n",
    "    '''\n",
    "    Retorna la suma de lista de numeros \n",
    "    '''\n",
    "    lista=lista_numeros\n",
    "    suma=0\n",
    "    for lista_num in lista:\n",
    "        suma +=lista_num\n",
    "    \n",
    "    if verbose == True:\n",
    "        print('la suma total es:',suma)\n",
    "    else: \n",
    "        pass\n",
    "      \n",
    "    return suma\n",
    "\n",
    "def calcula_valores_centrales(lista_numeros, verbose=True):\n",
    "    \"\"\" Calcula la media y desviacion estandar de una lista\n",
    "\n",
    "    Args:\n",
    "        lista_numeros (list): lista con valores numericos\n",
    "        verbose (bool, optional): para decidir si imprime el resultado\n",
    "        . Defaults to True.\n",
    "\n",
    "    Returns:\n",
    "        tupla: (media, dev_std)\n",
    "    \"\"\"\n",
    "    \n",
    "    media= np.mean(lista_numeros)\n",
    "    dev_std=np.std(lista_numeros)\n",
    "    \n",
    "    if verbose == True:\n",
    "        print('Valor Media:',media)\n",
    "        print('Valor Desviacion:',dev_std)\n",
    "    else: \n",
    "        pass\n",
    "    return media, dev_std\n",
    "    \n",
    "def calcular_valores (lista_numeros, verbose=True):\n",
    "    \"\"\"Retorna valores de suma, minimo valor , maximo valor , media y varianza\n",
    "    numeros lista\n",
    "\n",
    "    Args:\n",
    "        lista_numeros (_type_): _description_\n",
    "        verbose (bool, optional): _description_. Defaults to True.\n",
    "\n",
    "    Returns:\n",
    "        _type_: _description_\n",
    "    \"\"\"\n",
    "    suma = calcular_suma(lista_numeros)\n",
    "    min_val, max_val= calcular_min_max(lista_numeros)\n",
    "    media, dev_std= calcula_valores_centrales(lista_numeros)\n",
    "    \n",
    "    return suma, min_val, max_val, media , dev_std"
   ]
  },
  {
   "cell_type": "code",
   "execution_count": 58,
   "metadata": {},
   "outputs": [
    {
     "name": "stdout",
     "output_type": "stream",
     "text": [
      "lista [14, 3, 6, 11, 2, 7, 9, 1]\n",
      "la suma total es: 53\n",
      "Valor Minimo: 1\n",
      "Valor Maximo: 14\n",
      "Valor Media: 6.625\n",
      "Valor Desviacion: 4.270172713134681\n"
     ]
    },
    {
     "data": {
      "text/plain": [
       "(53, 1, 14, 6.625, 4.270172713134681)"
      ]
     },
     "execution_count": 58,
     "metadata": {},
     "output_type": "execute_result"
    }
   ],
   "source": [
    "\n",
    "##import numpy as np\n",
    "random_numbers = random.sample(range(15), 8)\n",
    "print('lista',random_numbers)\n",
    "\n",
    "lista_valores=[5,4,8,9,21]\n",
    "\n",
    "calcular_valores(lista_numeros=random_numbers ,  verbose=True)"
   ]
  },
  {
   "cell_type": "markdown",
   "metadata": {},
   "source": []
  }
 ],
 "metadata": {
  "kernelspec": {
   "display_name": "Python 3.9.12 ('base')",
   "language": "python",
   "name": "python3"
  },
  "language_info": {
   "codemirror_mode": {
    "name": "ipython",
    "version": 3
   },
   "file_extension": ".py",
   "mimetype": "text/x-python",
   "name": "python",
   "nbconvert_exporter": "python",
   "pygments_lexer": "ipython3",
   "version": "3.9.12"
  },
  "orig_nbformat": 4,
  "vscode": {
   "interpreter": {
    "hash": "ad2bdc8ecc057115af97d19610ffacc2b4e99fae6737bb82f5d7fb13d2f2c186"
   }
  }
 },
 "nbformat": 4,
 "nbformat_minor": 2
}
