{
 "cells": [
  {
   "cell_type": "markdown",
   "metadata": {},
   "source": [
    "# EDA (Exploratory Data Analisys) llamadas 123 julio 2022"
   ]
  },
  {
   "cell_type": "code",
   "execution_count": 164,
   "metadata": {},
   "outputs": [],
   "source": [
    "# importar librerias de manipulacion de datos\n",
    "import numpy as np\n",
    "import pandas as pd\n",
    "\n",
    "# ijmportar librerias del sistema\n",
    "import os\n",
    "from pathlib import Path"
   ]
  },
  {
   "cell_type": "code",
   "execution_count": 165,
   "metadata": {},
   "outputs": [
    {
     "name": "stdout",
     "output_type": "stream",
     "text": [
      "root dir: C:\\Users\\ccgua\\OneDrive\\Desktop\\Cursos\\EspecializacionBigdata\\Clase_HerramientasBigData\\ejercicios_python\\BigData2022B\n"
     ]
    }
   ],
   "source": [
    "root_dir = Path(\".\").resolve().parent\n",
    "print ('root dir:', root_dir)"
   ]
  },
  {
   "cell_type": "code",
   "execution_count": 166,
   "metadata": {},
   "outputs": [
    {
     "data": {
      "text/plain": [
       "'C:\\\\Users\\\\ccgua\\\\OneDrive\\\\Desktop\\\\Cursos\\\\EspecializacionBigdata\\\\Clase_HerramientasBigData\\\\ejercicios_python\\\\BigData2022B\\\\data\\\\raw\\\\llamadas123_julio_2022.csv'"
      ]
     },
     "execution_count": 166,
     "metadata": {},
     "output_type": "execute_result"
    }
   ],
   "source": [
    "os.path.join(root_dir,'data','raw','llamadas123_julio_2022.csv')"
   ]
  },
  {
   "cell_type": "code",
   "execution_count": 167,
   "metadata": {},
   "outputs": [
    {
     "name": "stdout",
     "output_type": "stream",
     "text": [
      "C:\\Users\\ccgua\\OneDrive\\Desktop\\Cursos\\EspecializacionBigdata\\Clase_HerramientasBigData\\ejercicios_python\\BigData2022B\\data\\raw\\llamadas123_julio_2022.csv\n"
     ]
    }
   ],
   "source": [
    "from fileinput import filename\n",
    "\n",
    "filename=\"llamadas123_julio_2022.csv\"\n",
    "data_dir = \"data\"\n",
    "data_dir2 = \"raw\"\n",
    "file_path = os.path.join(root_dir,data_dir,data_dir2,filename)\n",
    "print(file_path)"
   ]
  },
  {
   "cell_type": "code",
   "execution_count": 168,
   "metadata": {},
   "outputs": [],
   "source": [
    "##print(file_path)\n",
    "data2= pd.read_csv(r'C:\\Users\\ccgua\\OneDrive\\Desktop\\Cursos\\EspecializacionBigdata\\Clase_HerramientasBigData\\ejercicios_python\\BigData2022B\\data\\raw\\llamadas123_julio_2022.csv', encoding='latin-1',delimiter=';')"
   ]
  },
  {
   "cell_type": "code",
   "execution_count": 212,
   "metadata": {},
   "outputs": [],
   "source": [
    "data=pd.read_csv(file_path,encoding='latin-1',delimiter=';')"
   ]
  },
  {
   "cell_type": "code",
   "execution_count": 170,
   "metadata": {},
   "outputs": [
    {
     "data": {
      "text/html": [
       "<div>\n",
       "<style scoped>\n",
       "    .dataframe tbody tr th:only-of-type {\n",
       "        vertical-align: middle;\n",
       "    }\n",
       "\n",
       "    .dataframe tbody tr th {\n",
       "        vertical-align: top;\n",
       "    }\n",
       "\n",
       "    .dataframe thead th {\n",
       "        text-align: right;\n",
       "    }\n",
       "</style>\n",
       "<table border=\"1\" class=\"dataframe\">\n",
       "  <thead>\n",
       "    <tr style=\"text-align: right;\">\n",
       "      <th></th>\n",
       "      <th>NUMERO_INCIDENTE</th>\n",
       "      <th>FECHA_INICIO_DESPLAZAMIENTO_MOVIL</th>\n",
       "      <th>CODIGO_LOCALIDAD</th>\n",
       "      <th>LOCALIDAD</th>\n",
       "      <th>EDAD</th>\n",
       "      <th>UNIDAD</th>\n",
       "      <th>GENERO</th>\n",
       "      <th>RED</th>\n",
       "      <th>TIPO_INCIDENTE</th>\n",
       "      <th>PRIORIDAD</th>\n",
       "      <th>RECEPCION</th>\n",
       "    </tr>\n",
       "  </thead>\n",
       "  <tbody>\n",
       "    <tr>\n",
       "      <th>0</th>\n",
       "      <td>CRU-00278353-22</td>\n",
       "      <td>2022-07-01 00:08:59</td>\n",
       "      <td>11</td>\n",
       "      <td>Suba</td>\n",
       "      <td>88</td>\n",
       "      <td>Años</td>\n",
       "      <td>FEMENINO</td>\n",
       "      <td>Norte</td>\n",
       "      <td>Accidente Cerebro Vascular</td>\n",
       "      <td>ALTA</td>\n",
       "      <td>2022-07-01 03:40:13</td>\n",
       "    </tr>\n",
       "    <tr>\n",
       "      <th>1</th>\n",
       "      <td>CRU-00278360-22</td>\n",
       "      <td>2022-07-01 00:14:58</td>\n",
       "      <td>11</td>\n",
       "      <td>Suba</td>\n",
       "      <td>16</td>\n",
       "      <td>Años</td>\n",
       "      <td>MASCULINO</td>\n",
       "      <td>Norte</td>\n",
       "      <td>Herido</td>\n",
       "      <td>ALTA</td>\n",
       "      <td>2022-07-01 03:38:13</td>\n",
       "    </tr>\n",
       "    <tr>\n",
       "      <th>2</th>\n",
       "      <td>CRU-00278365-22</td>\n",
       "      <td>2022-07-01 00:21:59</td>\n",
       "      <td>18</td>\n",
       "      <td>Rafael Uribe Uribe</td>\n",
       "      <td>52</td>\n",
       "      <td>Años</td>\n",
       "      <td>FEMENINO</td>\n",
       "      <td>Centro Oriente</td>\n",
       "      <td>Evento Respiratorio</td>\n",
       "      <td>CRITICA</td>\n",
       "      <td>2022-07-01 04:08:24</td>\n",
       "    </tr>\n",
       "    <tr>\n",
       "      <th>3</th>\n",
       "      <td>CRU-00278370-22</td>\n",
       "      <td>2022-07-01 00:38:38</td>\n",
       "      <td>19</td>\n",
       "      <td>Ciudad Bol¡var</td>\n",
       "      <td>SIN_DATO</td>\n",
       "      <td>SIN_DATO</td>\n",
       "      <td>SIN_DATO</td>\n",
       "      <td>Privada</td>\n",
       "      <td>Herido</td>\n",
       "      <td>ALTA</td>\n",
       "      <td>0000-00-00 00:00:00</td>\n",
       "    </tr>\n",
       "    <tr>\n",
       "      <th>4</th>\n",
       "      <td>CRU-00278372-22</td>\n",
       "      <td>2022-07-01 00:53:32</td>\n",
       "      <td>1</td>\n",
       "      <td>Usaqun</td>\n",
       "      <td>33</td>\n",
       "      <td>Años</td>\n",
       "      <td>MASCULINO</td>\n",
       "      <td>Norte</td>\n",
       "      <td>Intento de Suicidio</td>\n",
       "      <td>ALTA</td>\n",
       "      <td>2022-07-01 03:25:29</td>\n",
       "    </tr>\n",
       "  </tbody>\n",
       "</table>\n",
       "</div>"
      ],
      "text/plain": [
       "  NUMERO_INCIDENTE FECHA_INICIO_DESPLAZAMIENTO_MOVIL  CODIGO_LOCALIDAD  \\\n",
       "0  CRU-00278353-22               2022-07-01 00:08:59                11   \n",
       "1  CRU-00278360-22               2022-07-01 00:14:58                11   \n",
       "2  CRU-00278365-22               2022-07-01 00:21:59                18   \n",
       "3  CRU-00278370-22               2022-07-01 00:38:38                19   \n",
       "4  CRU-00278372-22               2022-07-01 00:53:32                 1   \n",
       "\n",
       "            LOCALIDAD      EDAD    UNIDAD     GENERO             RED  \\\n",
       "0                Suba        88      Años   FEMENINO           Norte   \n",
       "1                Suba        16      Años  MASCULINO           Norte   \n",
       "2  Rafael Uribe Uribe        52      Años   FEMENINO  Centro Oriente   \n",
       "3      Ciudad Bol¡var  SIN_DATO  SIN_DATO   SIN_DATO         Privada   \n",
       "4             Usaqun        33      Años  MASCULINO           Norte   \n",
       "\n",
       "               TIPO_INCIDENTE PRIORIDAD            RECEPCION  \n",
       "0  Accidente Cerebro Vascular      ALTA  2022-07-01 03:40:13  \n",
       "1                      Herido      ALTA  2022-07-01 03:38:13  \n",
       "2         Evento Respiratorio   CRITICA  2022-07-01 04:08:24  \n",
       "3                      Herido      ALTA  0000-00-00 00:00:00  \n",
       "4         Intento de Suicidio      ALTA  2022-07-01 03:25:29  "
      ]
     },
     "execution_count": 170,
     "metadata": {},
     "output_type": "execute_result"
    }
   ],
   "source": [
    "data.head()"
   ]
  },
  {
   "cell_type": "code",
   "execution_count": 171,
   "metadata": {},
   "outputs": [
    {
     "data": {
      "text/plain": [
       "(13055, 11)"
      ]
     },
     "execution_count": 171,
     "metadata": {},
     "output_type": "execute_result"
    }
   ],
   "source": [
    "data.shape  # retorna la dupla con las dimensiones de la tabla, (numero de filas y columnas)    "
   ]
  },
  {
   "cell_type": "code",
   "execution_count": 172,
   "metadata": {},
   "outputs": [
    {
     "data": {
      "text/plain": [
       "NUMERO_INCIDENTE                     object\n",
       "FECHA_INICIO_DESPLAZAMIENTO_MOVIL    object\n",
       "CODIGO_LOCALIDAD                      int64\n",
       "LOCALIDAD                            object\n",
       "EDAD                                 object\n",
       "UNIDAD                               object\n",
       "GENERO                               object\n",
       "RED                                  object\n",
       "TIPO_INCIDENTE                       object\n",
       "PRIORIDAD                            object\n",
       "RECEPCION                            object\n",
       "dtype: object"
      ]
     },
     "execution_count": 172,
     "metadata": {},
     "output_type": "execute_result"
    }
   ],
   "source": [
    "data.dtypes # estructura de la tabla"
   ]
  },
  {
   "cell_type": "code",
   "execution_count": 173,
   "metadata": {},
   "outputs": [
    {
     "name": "stdout",
     "output_type": "stream",
     "text": [
      "Forma inicial (13055, 11)\n"
     ]
    }
   ],
   "source": [
    "data.head()\n",
    "print('Forma inicial', data.shape)"
   ]
  },
  {
   "cell_type": "code",
   "execution_count": 174,
   "metadata": {},
   "outputs": [],
   "source": [
    "\n",
    "\n",
    "data = data.drop_duplicates() #elimina los duplicados\n"
   ]
  },
  {
   "cell_type": "code",
   "execution_count": 175,
   "metadata": {},
   "outputs": [
    {
     "name": "stdout",
     "output_type": "stream",
     "text": [
      "forma Final  (13026, 11)\n",
      "<class 'pandas.core.frame.DataFrame'>\n",
      "Int64Index: 13026 entries, 0 to 13054\n",
      "Data columns (total 11 columns):\n",
      " #   Column                             Non-Null Count  Dtype \n",
      "---  ------                             --------------  ----- \n",
      " 0   NUMERO_INCIDENTE                   13026 non-null  object\n",
      " 1   FECHA_INICIO_DESPLAZAMIENTO_MOVIL  13026 non-null  object\n",
      " 2   CODIGO_LOCALIDAD                   13026 non-null  int64 \n",
      " 3   LOCALIDAD                          13026 non-null  object\n",
      " 4   EDAD                               13026 non-null  object\n",
      " 5   UNIDAD                             13018 non-null  object\n",
      " 6   GENERO                             13026 non-null  object\n",
      " 7   RED                                13026 non-null  object\n",
      " 8   TIPO_INCIDENTE                     13026 non-null  object\n",
      " 9   PRIORIDAD                          13026 non-null  object\n",
      " 10  RECEPCION                          13026 non-null  object\n",
      "dtypes: int64(1), object(10)\n",
      "memory usage: 1.2+ MB\n"
     ]
    },
    {
     "data": {
      "text/plain": [
       "Años        6781\n",
       "SIN_DATO    6187\n",
       "Meses         39\n",
       "NaN            8\n",
       "Horas          6\n",
       "Dias           5\n",
       "Name: UNIDAD, dtype: int64"
      ]
     },
     "execution_count": 175,
     "metadata": {},
     "output_type": "execute_result"
    }
   ],
   "source": [
    "\n",
    "\n",
    "print('forma Final ',data.shape)\n",
    "\n",
    "# %%\n",
    "# esquema de la tabla\n",
    "data.info()\n",
    "\n",
    "# %%\n",
    "data['UNIDAD'].value_counts(dropna=False) # realiza un conteo de los diferentes valores\n",
    "\n",
    "\n"
   ]
  },
  {
   "cell_type": "code",
   "execution_count": 176,
   "metadata": {},
   "outputs": [
    {
     "data": {
      "text/plain": [
       "Años        6781\n",
       "SIN_DATO    6187\n",
       "Meses         39\n",
       "SIN DATO       8\n",
       "Horas          6\n",
       "Dias           5\n",
       "Name: UNIDAD, dtype: int64"
      ]
     },
     "execution_count": 176,
     "metadata": {},
     "output_type": "execute_result"
    }
   ],
   "source": [
    "\n",
    "# %%\n",
    "data['UNIDAD'].fillna('SIN DATO').value_counts(dropna=True)\n"
   ]
  },
  {
   "cell_type": "code",
   "execution_count": 177,
   "metadata": {},
   "outputs": [],
   "source": [
    "data['UNIDAD']= data['UNIDAD'].fillna('SIN_DATO')\n",
    "## sobreescibo la columna Unidad que tenia valores nulos por una nueva sin nulos"
   ]
  },
  {
   "cell_type": "code",
   "execution_count": 178,
   "metadata": {},
   "outputs": [
    {
     "name": "stdout",
     "output_type": "stream",
     "text": [
      "<class 'pandas.core.frame.DataFrame'>\n",
      "Int64Index: 13026 entries, 0 to 13054\n",
      "Data columns (total 11 columns):\n",
      " #   Column                             Non-Null Count  Dtype \n",
      "---  ------                             --------------  ----- \n",
      " 0   NUMERO_INCIDENTE                   13026 non-null  object\n",
      " 1   FECHA_INICIO_DESPLAZAMIENTO_MOVIL  13026 non-null  object\n",
      " 2   CODIGO_LOCALIDAD                   13026 non-null  int64 \n",
      " 3   LOCALIDAD                          13026 non-null  object\n",
      " 4   EDAD                               13026 non-null  object\n",
      " 5   UNIDAD                             13026 non-null  object\n",
      " 6   GENERO                             13026 non-null  object\n",
      " 7   RED                                13026 non-null  object\n",
      " 8   TIPO_INCIDENTE                     13026 non-null  object\n",
      " 9   PRIORIDAD                          13026 non-null  object\n",
      " 10  RECEPCION                          13026 non-null  object\n",
      "dtypes: int64(1), object(10)\n",
      "memory usage: 1.2+ MB\n"
     ]
    }
   ],
   "source": [
    "data.info()"
   ]
  },
  {
   "cell_type": "code",
   "execution_count": 156,
   "metadata": {},
   "outputs": [
    {
     "data": {
      "text/plain": [
       "'0000-00-00 00:00:00'"
      ]
     },
     "execution_count": 156,
     "metadata": {},
     "output_type": "execute_result"
    }
   ],
   "source": [
    "## Manipulacion  fechas (datetiem)\n",
    "col= 'FECHA_INICIO_DESPLAZAMIENTO_MOVIL'\n",
    "data[col].min()"
   ]
  },
  {
   "cell_type": "code",
   "execution_count": 27,
   "metadata": {},
   "outputs": [
    {
     "data": {
      "text/html": [
       "<div>\n",
       "<style scoped>\n",
       "    .dataframe tbody tr th:only-of-type {\n",
       "        vertical-align: middle;\n",
       "    }\n",
       "\n",
       "    .dataframe tbody tr th {\n",
       "        vertical-align: top;\n",
       "    }\n",
       "\n",
       "    .dataframe thead th {\n",
       "        text-align: right;\n",
       "    }\n",
       "</style>\n",
       "<table border=\"1\" class=\"dataframe\">\n",
       "  <thead>\n",
       "    <tr style=\"text-align: right;\">\n",
       "      <th></th>\n",
       "      <th>NUMERO_INCIDENTE</th>\n",
       "      <th>FECHA_INICIO_DESPLAZAMIENTO_MOVIL</th>\n",
       "      <th>CODIGO_LOCALIDAD</th>\n",
       "      <th>LOCALIDAD</th>\n",
       "      <th>EDAD</th>\n",
       "      <th>UNIDAD</th>\n",
       "      <th>GENERO</th>\n",
       "      <th>RED</th>\n",
       "      <th>TIPO_INCIDENTE</th>\n",
       "      <th>PRIORIDAD</th>\n",
       "      <th>RECEPCION</th>\n",
       "    </tr>\n",
       "  </thead>\n",
       "  <tbody>\n",
       "    <tr>\n",
       "      <th>13054</th>\n",
       "      <td>CRU-00312775-22</td>\n",
       "      <td>0000-00-00 00:00:00</td>\n",
       "      <td>9</td>\n",
       "      <td>Fontib¢n</td>\n",
       "      <td>SIN_DATO</td>\n",
       "      <td>SIN_DATO</td>\n",
       "      <td>SIN_DATO</td>\n",
       "      <td>Sur Occidente</td>\n",
       "      <td>Accidente Cerebro Vascular</td>\n",
       "      <td>ALTA</td>\n",
       "      <td>0000-00-00 00:00:00</td>\n",
       "    </tr>\n",
       "  </tbody>\n",
       "</table>\n",
       "</div>"
      ],
      "text/plain": [
       "      NUMERO_INCIDENTE FECHA_INICIO_DESPLAZAMIENTO_MOVIL  CODIGO_LOCALIDAD  \\\n",
       "13054  CRU-00312775-22               0000-00-00 00:00:00                 9   \n",
       "\n",
       "      LOCALIDAD      EDAD    UNIDAD    GENERO            RED  \\\n",
       "13054  Fontib¢n  SIN_DATO  SIN_DATO  SIN_DATO  Sur Occidente   \n",
       "\n",
       "                   TIPO_INCIDENTE PRIORIDAD            RECEPCION  \n",
       "13054  Accidente Cerebro Vascular      ALTA  0000-00-00 00:00:00  "
      ]
     },
     "execution_count": 27,
     "metadata": {},
     "output_type": "execute_result"
    }
   ],
   "source": [
    "##aplicar filtros\n",
    "val_min= data[col].min()\n",
    "data[data[col]== val_min]  ## aplica filtro igual a minimo valor"
   ]
  },
  {
   "cell_type": "code",
   "execution_count": 28,
   "metadata": {},
   "outputs": [
    {
     "data": {
      "text/html": [
       "<div>\n",
       "<style scoped>\n",
       "    .dataframe tbody tr th:only-of-type {\n",
       "        vertical-align: middle;\n",
       "    }\n",
       "\n",
       "    .dataframe tbody tr th {\n",
       "        vertical-align: top;\n",
       "    }\n",
       "\n",
       "    .dataframe thead th {\n",
       "        text-align: right;\n",
       "    }\n",
       "</style>\n",
       "<table border=\"1\" class=\"dataframe\">\n",
       "  <thead>\n",
       "    <tr style=\"text-align: right;\">\n",
       "      <th></th>\n",
       "      <th>NUMERO_INCIDENTE</th>\n",
       "      <th>FECHA_INICIO_DESPLAZAMIENTO_MOVIL</th>\n",
       "      <th>CODIGO_LOCALIDAD</th>\n",
       "      <th>LOCALIDAD</th>\n",
       "      <th>EDAD</th>\n",
       "      <th>UNIDAD</th>\n",
       "      <th>GENERO</th>\n",
       "      <th>RED</th>\n",
       "      <th>TIPO_INCIDENTE</th>\n",
       "      <th>PRIORIDAD</th>\n",
       "      <th>RECEPCION</th>\n",
       "    </tr>\n",
       "  </thead>\n",
       "  <tbody>\n",
       "    <tr>\n",
       "      <th>0</th>\n",
       "      <td>CRU-00278353-22</td>\n",
       "      <td>2022-07-01 00:08:59</td>\n",
       "      <td>11</td>\n",
       "      <td>Suba</td>\n",
       "      <td>88</td>\n",
       "      <td>Años</td>\n",
       "      <td>FEMENINO</td>\n",
       "      <td>Norte</td>\n",
       "      <td>Accidente Cerebro Vascular</td>\n",
       "      <td>ALTA</td>\n",
       "      <td>2022-07-01 03:40:13</td>\n",
       "    </tr>\n",
       "    <tr>\n",
       "      <th>1</th>\n",
       "      <td>CRU-00278360-22</td>\n",
       "      <td>2022-07-01 00:14:58</td>\n",
       "      <td>11</td>\n",
       "      <td>Suba</td>\n",
       "      <td>16</td>\n",
       "      <td>Años</td>\n",
       "      <td>MASCULINO</td>\n",
       "      <td>Norte</td>\n",
       "      <td>Herido</td>\n",
       "      <td>ALTA</td>\n",
       "      <td>2022-07-01 03:38:13</td>\n",
       "    </tr>\n",
       "    <tr>\n",
       "      <th>2</th>\n",
       "      <td>CRU-00278365-22</td>\n",
       "      <td>2022-07-01 00:21:59</td>\n",
       "      <td>18</td>\n",
       "      <td>Rafael Uribe Uribe</td>\n",
       "      <td>52</td>\n",
       "      <td>Años</td>\n",
       "      <td>FEMENINO</td>\n",
       "      <td>Centro Oriente</td>\n",
       "      <td>Evento Respiratorio</td>\n",
       "      <td>CRITICA</td>\n",
       "      <td>2022-07-01 04:08:24</td>\n",
       "    </tr>\n",
       "    <tr>\n",
       "      <th>3</th>\n",
       "      <td>CRU-00278370-22</td>\n",
       "      <td>2022-07-01 00:38:38</td>\n",
       "      <td>19</td>\n",
       "      <td>Ciudad Bol¡var</td>\n",
       "      <td>SIN_DATO</td>\n",
       "      <td>SIN_DATO</td>\n",
       "      <td>SIN_DATO</td>\n",
       "      <td>Privada</td>\n",
       "      <td>Herido</td>\n",
       "      <td>ALTA</td>\n",
       "      <td>0000-00-00 00:00:00</td>\n",
       "    </tr>\n",
       "    <tr>\n",
       "      <th>4</th>\n",
       "      <td>CRU-00278372-22</td>\n",
       "      <td>2022-07-01 00:53:32</td>\n",
       "      <td>1</td>\n",
       "      <td>Usaqun</td>\n",
       "      <td>33</td>\n",
       "      <td>Años</td>\n",
       "      <td>MASCULINO</td>\n",
       "      <td>Norte</td>\n",
       "      <td>Intento de Suicidio</td>\n",
       "      <td>ALTA</td>\n",
       "      <td>2022-07-01 03:25:29</td>\n",
       "    </tr>\n",
       "    <tr>\n",
       "      <th>...</th>\n",
       "      <td>...</td>\n",
       "      <td>...</td>\n",
       "      <td>...</td>\n",
       "      <td>...</td>\n",
       "      <td>...</td>\n",
       "      <td>...</td>\n",
       "      <td>...</td>\n",
       "      <td>...</td>\n",
       "      <td>...</td>\n",
       "      <td>...</td>\n",
       "      <td>...</td>\n",
       "    </tr>\n",
       "    <tr>\n",
       "      <th>13049</th>\n",
       "      <td>CRU-00314021-22</td>\n",
       "      <td>2022-08-02 03:25:08</td>\n",
       "      <td>14</td>\n",
       "      <td>Los M rtires</td>\n",
       "      <td>SIN_DATO</td>\n",
       "      <td>SIN_DATO</td>\n",
       "      <td>SIN_DATO</td>\n",
       "      <td>Centro Oriente</td>\n",
       "      <td>Acompa¤amiento Evento</td>\n",
       "      <td>BAJA</td>\n",
       "      <td>0000-00-00 00:00:00</td>\n",
       "    </tr>\n",
       "    <tr>\n",
       "      <th>13050</th>\n",
       "      <td>CRU-00314021-22</td>\n",
       "      <td>2022-08-08 05:31:48</td>\n",
       "      <td>14</td>\n",
       "      <td>Los M rtires</td>\n",
       "      <td>18</td>\n",
       "      <td>Años</td>\n",
       "      <td>FEMENINO</td>\n",
       "      <td>Centro Oriente</td>\n",
       "      <td>Acompa¤amiento Evento</td>\n",
       "      <td>BAJA</td>\n",
       "      <td>8/08/2022 6:48</td>\n",
       "    </tr>\n",
       "    <tr>\n",
       "      <th>13051</th>\n",
       "      <td>CRU-00314021-22</td>\n",
       "      <td>2022-08-08 10:38:32</td>\n",
       "      <td>14</td>\n",
       "      <td>Los M rtires</td>\n",
       "      <td>SIN_DATO</td>\n",
       "      <td>SIN_DATO</td>\n",
       "      <td>SIN_DATO</td>\n",
       "      <td>Sur Occidente</td>\n",
       "      <td>Acompa¤amiento Evento</td>\n",
       "      <td>BAJA</td>\n",
       "      <td>0000-00-00 00:00:00</td>\n",
       "    </tr>\n",
       "    <tr>\n",
       "      <th>13052</th>\n",
       "      <td>CRU-00314021-22</td>\n",
       "      <td>2022-08-08 11:23:01</td>\n",
       "      <td>10</td>\n",
       "      <td>Engativ</td>\n",
       "      <td>11</td>\n",
       "      <td>Años</td>\n",
       "      <td>MASCULINO</td>\n",
       "      <td>Centro Oriente</td>\n",
       "      <td>Acompa¤amiento Evento</td>\n",
       "      <td>BAJA</td>\n",
       "      <td>9/08/2022 13:13</td>\n",
       "    </tr>\n",
       "    <tr>\n",
       "      <th>13053</th>\n",
       "      <td>CRU-00314021-22</td>\n",
       "      <td>2022-08-08 11:23:01</td>\n",
       "      <td>10</td>\n",
       "      <td>Engativ</td>\n",
       "      <td>19</td>\n",
       "      <td>Años</td>\n",
       "      <td>FEMENINO</td>\n",
       "      <td>Centro Oriente</td>\n",
       "      <td>Acompa¤amiento Evento</td>\n",
       "      <td>BAJA</td>\n",
       "      <td>0000-00-00 00:00:00</td>\n",
       "    </tr>\n",
       "  </tbody>\n",
       "</table>\n",
       "<p>13025 rows × 11 columns</p>\n",
       "</div>"
      ],
      "text/plain": [
       "      NUMERO_INCIDENTE FECHA_INICIO_DESPLAZAMIENTO_MOVIL  CODIGO_LOCALIDAD  \\\n",
       "0      CRU-00278353-22               2022-07-01 00:08:59                11   \n",
       "1      CRU-00278360-22               2022-07-01 00:14:58                11   \n",
       "2      CRU-00278365-22               2022-07-01 00:21:59                18   \n",
       "3      CRU-00278370-22               2022-07-01 00:38:38                19   \n",
       "4      CRU-00278372-22               2022-07-01 00:53:32                 1   \n",
       "...                ...                               ...               ...   \n",
       "13049  CRU-00314021-22               2022-08-02 03:25:08                14   \n",
       "13050  CRU-00314021-22               2022-08-08 05:31:48                14   \n",
       "13051  CRU-00314021-22               2022-08-08 10:38:32                14   \n",
       "13052  CRU-00314021-22               2022-08-08 11:23:01                10   \n",
       "13053  CRU-00314021-22               2022-08-08 11:23:01                10   \n",
       "\n",
       "                LOCALIDAD      EDAD    UNIDAD     GENERO             RED  \\\n",
       "0                    Suba        88      Años   FEMENINO           Norte   \n",
       "1                    Suba        16      Años  MASCULINO           Norte   \n",
       "2      Rafael Uribe Uribe        52      Años   FEMENINO  Centro Oriente   \n",
       "3          Ciudad Bol¡var  SIN_DATO  SIN_DATO   SIN_DATO         Privada   \n",
       "4                 Usaqun        33      Años  MASCULINO           Norte   \n",
       "...                   ...       ...       ...        ...             ...   \n",
       "13049        Los M rtires  SIN_DATO  SIN_DATO   SIN_DATO  Centro Oriente   \n",
       "13050        Los M rtires        18      Años   FEMENINO  Centro Oriente   \n",
       "13051        Los M rtires  SIN_DATO  SIN_DATO   SIN_DATO   Sur Occidente   \n",
       "13052            Engativ         11      Años  MASCULINO  Centro Oriente   \n",
       "13053            Engativ         19      Años   FEMENINO  Centro Oriente   \n",
       "\n",
       "                   TIPO_INCIDENTE PRIORIDAD            RECEPCION  \n",
       "0      Accidente Cerebro Vascular      ALTA  2022-07-01 03:40:13  \n",
       "1                          Herido      ALTA  2022-07-01 03:38:13  \n",
       "2             Evento Respiratorio   CRITICA  2022-07-01 04:08:24  \n",
       "3                          Herido      ALTA  0000-00-00 00:00:00  \n",
       "4             Intento de Suicidio      ALTA  2022-07-01 03:25:29  \n",
       "...                           ...       ...                  ...  \n",
       "13049       Acompa¤amiento Evento      BAJA  0000-00-00 00:00:00  \n",
       "13050       Acompa¤amiento Evento      BAJA       8/08/2022 6:48  \n",
       "13051       Acompa¤amiento Evento      BAJA  0000-00-00 00:00:00  \n",
       "13052       Acompa¤amiento Evento      BAJA      9/08/2022 13:13  \n",
       "13053       Acompa¤amiento Evento      BAJA  0000-00-00 00:00:00  \n",
       "\n",
       "[13025 rows x 11 columns]"
      ]
     },
     "execution_count": 28,
     "metadata": {},
     "output_type": "execute_result"
    }
   ],
   "source": [
    "data[data[col]!= val_min]  ## aplica filtro , diferente a minimo valor\n",
    "\n"
   ]
  },
  {
   "cell_type": "code",
   "execution_count": 179,
   "metadata": {},
   "outputs": [],
   "source": [
    "## formato de fechas \n",
    "\n",
    "data[col]=pd.to_datetime(data[col], errors='coerce')"
   ]
  },
  {
   "cell_type": "code",
   "execution_count": 180,
   "metadata": {},
   "outputs": [
    {
     "name": "stdout",
     "output_type": "stream",
     "text": [
      "<class 'pandas.core.frame.DataFrame'>\n",
      "Int64Index: 13026 entries, 0 to 13054\n",
      "Data columns (total 11 columns):\n",
      " #   Column                             Non-Null Count  Dtype         \n",
      "---  ------                             --------------  -----         \n",
      " 0   NUMERO_INCIDENTE                   13026 non-null  object        \n",
      " 1   FECHA_INICIO_DESPLAZAMIENTO_MOVIL  13025 non-null  datetime64[ns]\n",
      " 2   CODIGO_LOCALIDAD                   13026 non-null  int64         \n",
      " 3   LOCALIDAD                          13026 non-null  object        \n",
      " 4   EDAD                               13026 non-null  object        \n",
      " 5   UNIDAD                             13026 non-null  object        \n",
      " 6   GENERO                             13026 non-null  object        \n",
      " 7   RED                                13026 non-null  object        \n",
      " 8   TIPO_INCIDENTE                     13026 non-null  object        \n",
      " 9   PRIORIDAD                          13026 non-null  object        \n",
      " 10  RECEPCION                          13026 non-null  object        \n",
      "dtypes: datetime64[ns](1), int64(1), object(9)\n",
      "memory usage: 1.2+ MB\n"
     ]
    }
   ],
   "source": [
    "data.info()"
   ]
  },
  {
   "cell_type": "code",
   "execution_count": 53,
   "metadata": {},
   "outputs": [],
   "source": [
    "from dateutil.parser import  parse\n",
    "\n"
   ]
  },
  {
   "cell_type": "code",
   "execution_count": 54,
   "metadata": {},
   "outputs": [
    {
     "data": {
      "text/plain": [
       "0        2022-07-01 03:40:13\n",
       "1        2022-07-01 03:38:13\n",
       "2        2022-07-01 04:08:24\n",
       "3        0000-00-00 00:00:00\n",
       "4        2022-07-01 03:25:29\n",
       "                ...         \n",
       "13050         8/08/2022 6:48\n",
       "13051    0000-00-00 00:00:00\n",
       "13052        9/08/2022 13:13\n",
       "13053    0000-00-00 00:00:00\n",
       "13054    0000-00-00 00:00:00\n",
       "Name: RECEPCION, Length: 13026, dtype: object"
      ]
     },
     "execution_count": 54,
     "metadata": {},
     "output_type": "execute_result"
    }
   ],
   "source": [
    "data['RECEPCION']\n",
    "##data[col2]=pd.to_datetime(data[col2], errors='coerce')"
   ]
  },
  {
   "cell_type": "code",
   "execution_count": 182,
   "metadata": {},
   "outputs": [
    {
     "data": {
      "text/plain": [
       "13026"
      ]
     },
     "execution_count": 182,
     "metadata": {},
     "output_type": "execute_result"
    }
   ],
   "source": [
    "data.shape[0] "
   ]
  },
  {
   "cell_type": "code",
   "execution_count": 187,
   "metadata": {},
   "outputs": [],
   "source": []
  },
  {
   "cell_type": "code",
   "execution_count": 186,
   "metadata": {},
   "outputs": [],
   "source": [
    "## una funcion que reciba string  , con fechas y regrese el valor  en datatime parse\n",
    "def convertir_formato_fecha (str_fecha):\n",
    "    ''' \n",
    "    Retorna los valores Minimo y Maximo de una lista de numeros\n",
    "    Argumentos:\n",
    "        lista_numeros:type list\n",
    "    '''\n",
    "    val_datetimer= parse(str_fecha, dayfirst=True, yearfirst=False)\n",
    "\n",
    "    return val_datetimer"
   ]
  },
  {
   "cell_type": "code",
   "execution_count": 34,
   "metadata": {},
   "outputs": [],
   "source": [
    "data= data.reset_index"
   ]
  },
  {
   "cell_type": "code",
   "execution_count": 62,
   "metadata": {},
   "outputs": [
    {
     "name": "stdout",
     "output_type": "stream",
     "text": [
      "<class 'pandas.core.frame.DataFrame'>\n",
      "Int64Index: 13026 entries, 0 to 13054\n",
      "Data columns (total 11 columns):\n",
      " #   Column                             Non-Null Count  Dtype         \n",
      "---  ------                             --------------  -----         \n",
      " 0   NUMERO_INCIDENTE                   13026 non-null  object        \n",
      " 1   FECHA_INICIO_DESPLAZAMIENTO_MOVIL  13025 non-null  datetime64[ns]\n",
      " 2   CODIGO_LOCALIDAD                   13026 non-null  int64         \n",
      " 3   LOCALIDAD                          13026 non-null  object        \n",
      " 4   EDAD                               13026 non-null  object        \n",
      " 5   UNIDAD                             13026 non-null  object        \n",
      " 6   GENERO                             13026 non-null  object        \n",
      " 7   RED                                13026 non-null  object        \n",
      " 8   TIPO_INCIDENTE                     13026 non-null  object        \n",
      " 9   PRIORIDAD                          13026 non-null  object        \n",
      " 10  RECEPCION                          13026 non-null  object        \n",
      "dtypes: datetime64[ns](1), int64(1), object(9)\n",
      "memory usage: 1.7+ MB\n"
     ]
    },
    {
     "data": {
      "text/plain": [
       "13026"
      ]
     },
     "execution_count": 62,
     "metadata": {},
     "output_type": "execute_result"
    }
   ],
   "source": [
    "data.info()\n",
    "data.shape[0] "
   ]
  },
  {
   "cell_type": "code",
   "execution_count": 184,
   "metadata": {},
   "outputs": [],
   "source": [
    "data =data.reset_index()"
   ]
  },
  {
   "cell_type": "code",
   "execution_count": 60,
   "metadata": {},
   "outputs": [
    {
     "data": {
      "text/plain": [
       "0        2022-07-01 03:40:13\n",
       "1        2022-07-01 03:38:13\n",
       "2        2022-07-01 04:08:24\n",
       "3        0000-00-00 00:00:00\n",
       "4        2022-07-01 03:25:29\n",
       "                ...         \n",
       "13050         8/08/2022 6:48\n",
       "13051    0000-00-00 00:00:00\n",
       "13052        9/08/2022 13:13\n",
       "13053    0000-00-00 00:00:00\n",
       "13054    0000-00-00 00:00:00\n",
       "Name: RECEPCION, Length: 13026, dtype: object"
      ]
     },
     "execution_count": 60,
     "metadata": {},
     "output_type": "execute_result"
    }
   ],
   "source": [
    "data['RECEPCION']"
   ]
  },
  {
   "cell_type": "code",
   "execution_count": 66,
   "metadata": {},
   "outputs": [],
   "source": [
    " ### recorreo el campo RECEPCION , en todos sus registro y hace un perse cambio de formato con la funcion previamente creada\n",
    "\n",
    "list_fechas= list()\n",
    "n_filas= data.shape[0] \n",
    "##n_filas=len(data['RECEPCION']) ### tamaño de filas campo recepcion \n",
    "for i in range(0, n_filas):\n",
    "\n",
    "    str_fecha=data['RECEPCION'][i]\n",
    "\n",
    "    try:\n",
    "        val_datatime=  convertir_formato_fecha (str_fecha=str_fecha)\n",
    "        list_fechas.append(val_datatime)\n",
    "    except Exception as e:\n",
    "        ##print(i,e)\n",
    "        list_fechas.append(str_fecha)\n",
    "        continue\n",
    "    \n"
   ]
  },
  {
   "cell_type": "code",
   "execution_count": 188,
   "metadata": {},
   "outputs": [],
   "source": [
    "data['RECEPCION_CORREIGA']=list_fechas"
   ]
  },
  {
   "cell_type": "code",
   "execution_count": 189,
   "metadata": {},
   "outputs": [],
   "source": [
    "## quitar vacios y dejar na , ya se convierte en datatime\n",
    "data['RECEPCION_CORREIGA']=pd.to_datetime(data['RECEPCION_CORREIGA'], errors='coerce')\n"
   ]
  },
  {
   "cell_type": "code",
   "execution_count": 190,
   "metadata": {},
   "outputs": [
    {
     "name": "stdout",
     "output_type": "stream",
     "text": [
      "<class 'pandas.core.frame.DataFrame'>\n",
      "RangeIndex: 13026 entries, 0 to 13025\n",
      "Data columns (total 13 columns):\n",
      " #   Column                             Non-Null Count  Dtype         \n",
      "---  ------                             --------------  -----         \n",
      " 0   index                              13026 non-null  int64         \n",
      " 1   NUMERO_INCIDENTE                   13026 non-null  object        \n",
      " 2   FECHA_INICIO_DESPLAZAMIENTO_MOVIL  13025 non-null  datetime64[ns]\n",
      " 3   CODIGO_LOCALIDAD                   13026 non-null  int64         \n",
      " 4   LOCALIDAD                          13026 non-null  object        \n",
      " 5   EDAD                               13026 non-null  object        \n",
      " 6   UNIDAD                             13026 non-null  object        \n",
      " 7   GENERO                             13026 non-null  object        \n",
      " 8   RED                                13026 non-null  object        \n",
      " 9   TIPO_INCIDENTE                     13026 non-null  object        \n",
      " 10  PRIORIDAD                          13026 non-null  object        \n",
      " 11  RECEPCION                          13026 non-null  object        \n",
      " 12  RECEPCION_CORREIGA                 5259 non-null   datetime64[ns]\n",
      "dtypes: datetime64[ns](2), int64(2), object(9)\n",
      "memory usage: 1.3+ MB\n"
     ]
    }
   ],
   "source": [
    "data.info()"
   ]
  },
  {
   "cell_type": "code",
   "execution_count": 157,
   "metadata": {},
   "outputs": [
    {
     "data": {
      "text/plain": [
       "SIN_DATO    6187\n",
       "23           150\n",
       "22           140\n",
       "30           134\n",
       "27           134\n",
       "            ... \n",
       "7             17\n",
       "98            16\n",
       "9             15\n",
       "8             14\n",
       "97            12\n",
       "Name: EDAD, Length: 100, dtype: int64"
      ]
     },
     "execution_count": 157,
     "metadata": {},
     "output_type": "execute_result"
    }
   ],
   "source": [
    "data['EDAD'].value_counts(dropna=False)"
   ]
  },
  {
   "cell_type": "code",
   "execution_count": 220,
   "metadata": {},
   "outputs": [],
   "source": [
    "## reeemplazar sin dato campos EDAD a vacio   \n",
    "data['EDAD']=data['EDAD'].replace({'SIN_DATO': np.nan})"
   ]
  },
  {
   "cell_type": "code",
   "execution_count": 224,
   "metadata": {},
   "outputs": [
    {
     "name": "stdout",
     "output_type": "stream",
     "text": [
      "<class 'pandas.core.frame.DataFrame'>\n",
      "RangeIndex: 13055 entries, 0 to 13054\n",
      "Data columns (total 11 columns):\n",
      " #   Column                             Non-Null Count  Dtype \n",
      "---  ------                             --------------  ----- \n",
      " 0   NUMERO_INCIDENTE                   13055 non-null  object\n",
      " 1   FECHA_INICIO_DESPLAZAMIENTO_MOVIL  13055 non-null  object\n",
      " 2   CODIGO_LOCALIDAD                   13055 non-null  int64 \n",
      " 3   LOCALIDAD                          13055 non-null  object\n",
      " 4   EDAD                               6852 non-null   object\n",
      " 5   UNIDAD                             13047 non-null  object\n",
      " 6   GENERO                             13055 non-null  object\n",
      " 7   RED                                13055 non-null  object\n",
      " 8   TIPO_INCIDENTE                     13055 non-null  object\n",
      " 9   PRIORIDAD                          13055 non-null  object\n",
      " 10  RECEPCION                          13055 non-null  object\n",
      "dtypes: int64(1), object(10)\n",
      "memory usage: 1.1+ MB\n"
     ]
    }
   ],
   "source": [
    "data.info()"
   ]
  },
  {
   "cell_type": "code",
   "execution_count": 225,
   "metadata": {},
   "outputs": [
    {
     "data": {
      "text/plain": [
       "nan"
      ]
     },
     "execution_count": 225,
     "metadata": {},
     "output_type": "execute_result"
    }
   ],
   "source": [
    "## funciones lambda para validar si elemento es nullo si no convierta en int\n",
    "\n",
    "x= np.nan\n",
    "f= lambda x: x if pd.isna(x)== True else int(x)\n",
    "\n",
    "f(x)"
   ]
  },
  {
   "cell_type": "code",
   "execution_count": 226,
   "metadata": {},
   "outputs": [
    {
     "data": {
      "text/plain": [
       "0        88.0\n",
       "1        16.0\n",
       "2        52.0\n",
       "3         NaN\n",
       "4        33.0\n",
       "         ... \n",
       "13050    18.0\n",
       "13051     NaN\n",
       "13052    11.0\n",
       "13053    19.0\n",
       "13054     NaN\n",
       "Name: EDAD, Length: 13055, dtype: float64"
      ]
     },
     "execution_count": 226,
     "metadata": {},
     "output_type": "execute_result"
    }
   ],
   "source": [
    "## aplicar formula para convertir \n",
    "data['EDAD'].apply(f)"
   ]
  },
  {
   "cell_type": "code",
   "execution_count": 218,
   "metadata": {},
   "outputs": [],
   "source": [
    "data['LOCALIDAD']\n",
    "list_flis_localidad= data['LOCALIDAD']\n",
    "\n"
   ]
  },
  {
   "cell_type": "code",
   "execution_count": 92,
   "metadata": {},
   "outputs": [
    {
     "data": {
      "text/plain": [
       "0                      Suba\n",
       "1                      Suba\n",
       "2        Rafael Uribe Uribe\n",
       "3            Ciudad Bol¡var\n",
       "4                   Usaqun\n",
       "                ...        \n",
       "13021          Los M rtires\n",
       "13022          Los M rtires\n",
       "13023              Engativ \n",
       "13024              Engativ \n",
       "13025              Fontib¢n\n",
       "Name: LOCALIDAD, Length: 13026, dtype: object"
      ]
     },
     "execution_count": 92,
     "metadata": {},
     "output_type": "execute_result"
    }
   ],
   "source": [
    "list_flis_localidad"
   ]
  },
  {
   "cell_type": "code",
   "execution_count": 130,
   "metadata": {},
   "outputs": [],
   "source": [
    "## funcuion que asigna formato , quitar espacio y deja en minuscula\n",
    "def convertir_minuscula_sin_espacio (str_localidad):\n",
    "    ''' \n",
    "    Retorna los valores Minimo y Maximo de una lista de numeros\n",
    "    Argumentos:\n",
    "        lista_numeros:type list\n",
    "    '''\n",
    "    val_str= val_str.lower()\n",
    "    val_str= val_str.lstrip()\n",
    "    val_str =val_str.decode('Unicode')\n",
    "\n",
    "    return val_str"
   ]
  },
  {
   "cell_type": "code",
   "execution_count": 201,
   "metadata": {},
   "outputs": [
    {
     "data": {
      "text/plain": [
       "13026"
      ]
     },
     "execution_count": 201,
     "metadata": {},
     "output_type": "execute_result"
    }
   ],
   "source": [
    "data.shape[0]"
   ]
  },
  {
   "cell_type": "code",
   "execution_count": 214,
   "metadata": {},
   "outputs": [],
   "source": []
  },
  {
   "cell_type": "code",
   "execution_count": 131,
   "metadata": {},
   "outputs": [],
   "source": [
    "list_flis_localidad= list()\n",
    "n_filas= data.shape[0] \n",
    "##n_filas=len(data['RECEPCION']) ### tamaño de filas campo recepcion \n",
    "for i in range(0, n_filas):\n",
    "\n",
    "    str_localidad=data['LOCALIDAD'][i]\n",
    "\n",
    "    try:\n",
    "        val_data=  convertir_minuscula_sin_espacio (str_localidad=str_localidad)\n",
    "        list_flis_localidad.append(val_data)\n",
    "    except Exception as e:\n",
    "        ##print(i,e)\n",
    "        list_flis_localidad.append(str_localidad)\n",
    "        continue    \n",
    "    "
   ]
  },
  {
   "cell_type": "code",
   "execution_count": 217,
   "metadata": {},
   "outputs": [
    {
     "data": {
      "text/plain": [
       "0                      Suba\n",
       "1                      Suba\n",
       "2        Rafael Uribe Uribe\n",
       "3            Ciudad Bol¡var\n",
       "4                   Usaqun\n",
       "                ...        \n",
       "13050          Los M rtires\n",
       "13051          Los M rtires\n",
       "13052              Engativ \n",
       "13053              Engativ \n",
       "13054              Fontib¢n\n",
       "Name: LOCALIDAD, Length: 13055, dtype: object"
      ]
     },
     "execution_count": 217,
     "metadata": {},
     "output_type": "execute_result"
    }
   ],
   "source": [
    "data['LOCALIDAD']"
   ]
  },
  {
   "cell_type": "code",
   "execution_count": 203,
   "metadata": {},
   "outputs": [],
   "source": [
    "data['LOCALIDAD']=list_flis_localidad\n",
    "##data['LOCALIDAD'].apply(lambda x: x.strip()).value_counts()"
   ]
  },
  {
   "cell_type": "code",
   "execution_count": 135,
   "metadata": {},
   "outputs": [
    {
     "data": {
      "text/plain": [
       "kennedy               1740\n",
       "suba                  1323\n",
       "engativ               1304\n",
       "bosa                  1065\n",
       "ciudad bol¡var        1009\n",
       "puente aranda          742\n",
       "fontib¢n               670\n",
       "usaqun                667\n",
       "rafael uribe uribe     601\n",
       "usme                   597\n",
       "san crist¢bal          595\n",
       "chapinero              507\n",
       "tunjuelito             391\n",
       "barrios unidos         389\n",
       "los m rtires           379\n",
       "teusaquillo            361\n",
       "santa fe               356\n",
       "antonio nari¤o         244\n",
       "la candelaria           85\n",
       "sumapaz                  1\n",
       "Name: LOCALIDAD, dtype: int64"
      ]
     },
     "execution_count": 135,
     "metadata": {},
     "output_type": "execute_result"
    }
   ],
   "source": [
    "data['LOCALIDAD'].value_counts()"
   ]
  }
 ],
 "metadata": {
  "kernelspec": {
   "display_name": "Python 3.9.12 ('base')",
   "language": "python",
   "name": "python3"
  },
  "language_info": {
   "codemirror_mode": {
    "name": "ipython",
    "version": 3
   },
   "file_extension": ".py",
   "mimetype": "text/x-python",
   "name": "python",
   "nbconvert_exporter": "python",
   "pygments_lexer": "ipython3",
   "version": "3.9.12"
  },
  "orig_nbformat": 4,
  "vscode": {
   "interpreter": {
    "hash": "ad2bdc8ecc057115af97d19610ffacc2b4e99fae6737bb82f5d7fb13d2f2c186"
   }
  }
 },
 "nbformat": 4,
 "nbformat_minor": 2
}
